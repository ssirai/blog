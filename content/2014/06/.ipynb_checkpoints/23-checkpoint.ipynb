{
 "metadata": {
  "name": "",
  "signature": "sha256:9043661028fbeb6c0cea6fd871703a1de5ca8fb8e393afdf781d1cbe34f6e979"
 },
 "nbformat": 3,
 "nbformat_minor": 0,
 "worksheets": [
  {
   "cells": [
    {
     "cell_type": "markdown",
     "metadata": {},
     "source": [
      "## Pelican \u3067 IPython notebook \u3092\u66f8\u304f\n",
      "\n",
      "```bash\n",
      "$ ipython notebook\n",
      "```"
     ]
    },
    {
     "cell_type": "code",
     "collapsed": false,
     "input": [
      "1 + 1"
     ],
     "language": "python",
     "metadata": {},
     "outputs": [
      {
       "metadata": {},
       "output_type": "pyout",
       "prompt_number": 1,
       "text": [
        "2"
       ]
      }
     ],
     "prompt_number": 1
    }
   ],
   "metadata": {}
  }
 ]
}