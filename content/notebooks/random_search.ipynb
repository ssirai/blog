{
 "metadata": {
  "language": "Julia",
  "name": "",
  "signature": "sha256:fd86ee9130da75eadb3e925a28c520effeb2a7b08e747f77deaad45a3f6a9ab8"
 },
 "nbformat": 3,
 "nbformat_minor": 0,
 "worksheets": [
  {
   "cells": [
    {
     "cell_type": "markdown",
     "metadata": {},
     "source": [
      "# \u30e9\u30f3\u30c0\u30e0\u30b5\u30fc\u30c1\n",
      "\n",
      "> [Clever Algorithms: Nature-Inspired Programming Recipes](http://www.cleveralgorithms.com/)\n",
      ">\n",
      "> This work is licensed under a [CC BY-NC-SA 2.5 AU](http://creativecommons.org/licenses/by-nc-sa/2.5/au/)\n",
      "\n",
      "\u30e9\u30f3\u30c0\u30e0\u30b5\u30fc\u30c1\u306f\u78ba\u7387\u7684\u30a2\u30eb\u30b4\u30ea\u30ba\u30e0\u306e\u306a\u304b\u3067\u3082\u4e00\u756a\u5358\u7d14\u306a\u3082\u306e\u3067\u3042\u308b\uff0e\n",
      "\n",
      "\u6570\u5b66\u7684\u306b\u306f\u89e3\u306b\u53ce\u675f\u6027\u304c\u3042\u308b\u304b\u306a\u3069\u3092\u8003\u3048\u308b\u3089\u3057\u3044\u306e\u3067\u7c21\u5358\u3068\u3044\u3046\u308f\u3051\u3067\u306f\u306a\u3044\u3089\u3057\u3044\u304c\uff0c\u30d7\u30ed\u30b0\u30e9\u30e0\u3068\u3057\u3066\u66f8\u304f\u3060\u3051\u306a\u3089\u3068\u3066\u3082\u7c21\u5358\u3067\u3042\u308b\uff0e\u307e\u305f\u30e9\u30f3\u30c0\u30e0\u30b5\u30fc\u30c1\u306f\u5c40\u6240\u63a2\u7d22\u6cd5\u3084\u5c71\u767b\u308a\u6cd5\u3068\u3044\u3063\u305f\u3088\u308a\u3088\u3044\u624b\u6cd5\u3068\u7d44\u307f\u5408\u308f\u305b\u308b\u305f\u3081\u306e\u57fa\u672c\u7684\u306a\u624b\u6cd5\u3067\u3042\u308b\uff0e\n",
      "\n",
      "## \u5b9f\u4f8b\n",
      "\n",
      "$ n = 2 $ \u306b\u304a\u3051\u308b $ f = \\sum_{i=1}^{n} x_i^2, -5.0 \\leq x_i \\leq 5.0 $ \u306e\u6700\u5c0f\u5024 $ \\min f(x) $ \u3092\u6c42\u3081\u308b\uff0e\u30d1\u30e9\u30dc\u30e9\u653e\u7269\u7dda\u306e\u5e95\u3092\u6c42\u3081\u308b\u554f\u984c\u306b\u904e\u304e\u306a\u3044\u306e\u3067\u6570\u5024\u7684\u306b\u89e3\u304f\u610f\u7fa9\u306f\u7279\u306b\u306a\u3044\uff0e\n",
      "\n",
      "\u307e\u305a\u4f4d\u7f6e\u30d9\u30af\u30c8\u30eb\u3092\u53d7\u3051\u53d6\u3063\u305f\u3089\u30b3\u30b9\u30c8\u3092\u8fd4\u3059\u76ee\u7684\u95a2\u6570\u3092\u5b9a\u7fa9\u3059\u308b\uff0e"
     ]
    },
    {
     "cell_type": "code",
     "collapsed": false,
     "input": [
      "objective_function(vector) = sum(map(x -> x^2, vector))"
     ],
     "language": "python",
     "metadata": {},
     "outputs": [
      {
       "metadata": {},
       "output_type": "pyout",
       "prompt_number": 1,
       "text": [
        "objective_function (generic function with 1 method)"
       ]
      }
     ],
     "prompt_number": 1
    },
    {
     "cell_type": "markdown",
     "metadata": {},
     "source": [
      "\u7d9a\u3044\u3066\u63a2\u7d22\u533a\u9593\u3092\u53d7\u3051\u53d6\u3063\u3066\uff08\u3053\u306e\u554f\u984c\u3067\u306f `[-5 5; -5 5]`\uff09\uff0c\u30e9\u30f3\u30c0\u30e0\u306a\u4f4d\u7f6e\u30d9\u30af\u30c8\u30eb\u3092\u8fd4\u3059\u95a2\u6570\u3092\u5b9a\u7fa9\u3059\u308b\uff0e\u533a\u9593 [-5, 5] \u304b\u3089\u30e9\u30f3\u30c0\u30e0\u306b 2 \u56de\u9078\u3076\u3060\u3051\u306a\u306e\u3067\u4eca\u56de\u306f\u96e3\u3057\u304f\u306a\u3044\u304c\uff0c\u9078\u3070\u308c\u308b\u70b9\u306b\u504f\u308a\u304c\u51fa\u3066\u3044\u306a\u3044\u304b\u306f\u5e38\u306b\u8003\u616e\u3059\u308b\u3079\u304d\u3067\u3042\u308b\uff0e"
     ]
    },
    {
     "cell_type": "code",
     "collapsed": false,
     "input": [
      "function random_vector(minmax :: Array{(Float64, Float64)})\n",
      "  [mn + (mx - mn) * rand() for (mn, mx) = minmax]  # rand() \u306f\u533a\u9593 [0, 1) \u306e\u4e00\u69d8\u4e71\u6570\u3092\u8fd4\u3059 (Float64)\n",
      "end"
     ],
     "language": "python",
     "metadata": {},
     "outputs": [
      {
       "metadata": {},
       "output_type": "pyout",
       "prompt_number": 2,
       "text": [
        "random_vector (generic function with 1 method)"
       ]
      }
     ],
     "prompt_number": 2
    },
    {
     "cell_type": "markdown",
     "metadata": {},
     "source": [
      "\u4e0a2\u3064\u306e\u88dc\u52a9\u95a2\u6570\u3092\u7528\u3044\u3066\u63a2\u7d22\u95a2\u6570\u3092\u8a18\u8ff0\u3059\u308c\u3070\u3088\u3044\uff0e\n",
      "\n",
      "\u63a2\u7d22\u95a2\u6570 `search` \u306f\u63a2\u7d22\u533a\u9593\u306e\u914d\u5217\u3068\u63a2\u7d22\u306e\u8a66\u884c\u56de\u6570\u3092\u53d7\u3051\u53d6\u308a\uff0c\u8fd4\u308a\u5024\u306f\u6700\u5584\u306e\u7d50\u679c\uff08\u30b3\u30b9\u30c8\u3068\u30d9\u30af\u30c8\u30eb\u306e\u60c5\u5831\uff09\u3068\u3059\u308b\uff0e"
     ]
    },
    {
     "cell_type": "code",
     "collapsed": false,
     "input": [
      "function search(search_space :: Array{(Float64, Float64)}, max_iter :: Int)\n",
      "  best = Dict()\n",
      "  for _ in 1:max_iter\n",
      "    candidate = Dict()\n",
      "    candidate[:vector] = random_vector(search_space)\n",
      "    candidate[:cost]   = objective_function(candidate[:vector])\n",
      "    best = !isempty(best) && best[:cost] < candidate[:cost] ? \n",
      "           best :\n",
      "           candidate\n",
      "  end\n",
      "  best\n",
      "end"
     ],
     "language": "python",
     "metadata": {},
     "outputs": [
      {
       "metadata": {},
       "output_type": "pyout",
       "prompt_number": 3,
       "text": [
        "search (generic function with 1 method)"
       ]
      }
     ],
     "prompt_number": 3
    },
    {
     "cell_type": "markdown",
     "metadata": {},
     "source": [
      "\u305f\u3093\u306b\u66f8\u7c4d\u306eRuby\u30b3\u30fc\u30c9\u3092\u79fb\u690d\u3057\u3066\u3044\u308b\u3060\u3051\u306a\u306e\u3060\u304c\uff0cJulia\u7279\u6709\u306e\u8003\u5bdf\u70b9\u304c\u3044\u304f\u3064\u304b\u6d6e\u304b\u3073\u4e0a\u304c\u3063\u3066\u304f\u308b\uff0e\n",
      "\n",
      "\u307e\u305a\u5f15\u6570\u306e\u578b\u3092\u8a18\u8ff0\u3057\u3066\u3044\u308b\uff0eJulia\u306fRuby\u306e\u3088\u3046\u306b\u578b\u3092\u8a18\u8ff0\u305b\u305a\u3068\u3082\u52d5\u304f\u304c\uff0c\u53ef\u80fd\u306a\u9650\u308a\u66f8\u3044\u305f\u307b\u3046\u304c\u3088\u3044\uff0e\u578b\u306f\u305d\u306e\u95a2\u6570\u306e\u632f\u308b\u821e\u3044\u3092\u898f\u5b9a\u3057\u3066\u3044\u308b\u304b\u3089\u3067\u3042\u308b\uff0e\u578b\u3092\u66f8\u304b\u306a\u3044\u3068\uff0c\u305d\u306e\u95a2\u6570\u306f\u3069\u3093\u306a\u30c7\u30fc\u30bf\u578b\u306b\u5bfe\u3057\u3066\u3082\u9069\u7528\u3055\u308c\u308b\uff08\u30b8\u30a7\u30cd\u30ea\u30c3\u30af\u306a\u95a2\u6570\uff09\uff0e\u3053\u308c\u306f\u52d5\u4f5c\u304c\u628a\u63e1\u3057\u3065\u3089\u3044\uff0e\n",
      "\n",
      "\u307e\u305f Julia \u3067\u3042\u308c\u3070 `search` \u95a2\u6570\u3092\u3082\u3063\u3068\u77ed\u304f\u66f8\u3051\u308b\u306e\u3067\u306f\u306a\u3044\u3060\u308d\u3046\u304b\uff0e\u4ee5\u4e0b\u306f\u30b7\u30f3\u30bf\u30c3\u30af\u30b9\u30a8\u30e9\u30fc\u3067\u52d5\u304b\u306a\u3044\u304c\uff0c`vector` \u3092\u5185\u5305\u8868\u8a18\u3067\u4e00\u6642\u7684\u306b\u84c4\u3048\u305f\u308a\u3059\u308b\u3053\u3068\u306f\u3067\u304d\u306a\u3044\u306e\u3060\u308d\u3046\u304b\uff08\u5185\u5305\u8868\u8a18\u306f\u5185\u90e8\u306e\u5024\u3092\u66f8\u304d\u63db\u3048\u3066\u306f\u306a\u3089\u306a\u304b\u3063\u305f\u6c17\u304c\u3059\u308b\u306e\u3067\u4e00\u6642\u5909\u6570\u306f\u3060\u3081\u304b\u2026\uff09\uff0e\n",
      "\n",
      "```julia\n",
      "function search(search_space, max_iter)\n",
      "  minimum([(objective_function(vector), vector), vector = random_vector(search_space) for _ in 1:max_iter])\n",
      "end\n",
      "```\n",
      "\n",
      "\u3068\u3053\u308d\u3067\uff0c\u95a2\u6570\u540d `objective_function` \u3084 `random_vector` \u3082\u305d\u306e\u307e\u307e\u672c\u304b\u3089\u79fb\u690d\u3057\u305f\u3060\u3051\u3067\u3042\u308b\u304c\uff0cJulia\u3067\u306f\u95a2\u6570\u540d\u306b\u30b9\u30cd\u30fc\u30af\u30b1\u30fc\u30b9 (\u540d\u524d\u3092\u533a\u5207\u308b\u306e\u306b\u30a2\u30f3\u30c0\u30fc\u30b9\u30b3\u30a2`_`\u3092\u4f7f\u3046\u3053\u3068) \u306f\u63a8\u5968\u3055\u308c\u3066\u3044\u306a\u3044\uff0e\u30b9\u30cd\u30fc\u30af\u30b1\u30fc\u30b9\u3067\u540d\u524d\u304c\u533a\u5207\u3089\u308c\u3066\u3044\u308b\u5834\u5408\uff0c\u5f80\u3005\u306b\u3057\u3066\u51e6\u7406\u5358\u4f4d\u304c 1 \u3064\u306b\u7d5e\u308c\u3066\u3044\u306a\u3044\u3068\u3044\u3046\u3053\u3068\u304c\u8d77\u3053\u3063\u3066\u3044\u308b\u306e\u3067\u975e\u63a8\u5968\u3068\u3055\u308c\u3066\u3044\u308b\uff0e`objective_function` \u3084 `random_vector` \u306f\u3042\u307e\u308a\u3088\u3044\u95a2\u6570\u540d\u3067\u306f\u306a\u3044\u304b\u3082\u3057\u308c\u306a\u3044\u304c\uff0c\u51e6\u7406\u5358\u4f4d\u3068\u3057\u3066\u306f\u3053\u308c\u4ee5\u4e0a\u306a\u3044\u304f\u3089\u3044\u5c0f\u3055\u304f\u7d5e\u3089\u308c\u3066\u3044\u308b\u3068\u601d\u3046\u306e\u3067\u3053\u306e\u307e\u307e\u3067\u3088\u3044\u3060\u308d\u3046\uff0e\n",
      "\n",
      "\u3067\u306f\u6700\u5f8c\u306b\uff0c\u5b9f\u969b\u306b\u63a2\u7d22\u3092\u884c\u3063\u3066\u307f\u3088\u3046\uff0e"
     ]
    },
    {
     "cell_type": "code",
     "collapsed": false,
     "input": [
      "search_space = [(-5.0, 5.0) (-5.0, 5.0)]\n",
      "max_iter = 1000\n",
      "best = search(search_space, max_iter)\n",
      "println(\"Done. Best Solution: c=$(best[:cost]), v=$(best[:vector])\")"
     ],
     "language": "python",
     "metadata": {},
     "outputs": [
      {
       "output_type": "stream",
       "stream": "stdout",
       "text": [
        "Done. Best Solution: c=0.005268822282496379, v=[0.010556057732317825,-0.07181498400506925]\n"
       ]
      }
     ],
     "prompt_number": 4
    }
   ],
   "metadata": {}
  }
 ]
}